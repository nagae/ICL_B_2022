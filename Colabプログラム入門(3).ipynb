{
  "nbformat": 4,
  "nbformat_minor": 0,
  "metadata": {
    "colab": {
      "name": "Colab プログラム入門(3).ipynb",
      "provenance": [],
      "collapsed_sections": [],
      "include_colab_link": true
    },
    "kernelspec": {
      "display_name": "Python 3",
      "language": "python",
      "name": "python3"
    },
    "language_info": {
      "codemirror_mode": {
        "name": "ipython",
        "version": 3
      },
      "file_extension": ".py",
      "mimetype": "text/x-python",
      "name": "python",
      "nbconvert_exporter": "python",
      "pygments_lexer": "ipython3",
      "version": "3.7.7"
    }
  },
  "cells": [
    {
      "cell_type": "markdown",
      "metadata": {
        "id": "view-in-github",
        "colab_type": "text"
      },
      "source": [
        "<a href=\"https://colab.research.google.com/github/nagae/ICL_B_2022/blob/main/Colab_%E3%83%97%E3%83%AD%E3%82%B0%E3%83%A9%E3%83%A0%E5%85%A5%E9%96%80(3).ipynb\" target=\"_parent\"><img src=\"https://colab.research.google.com/assets/colab-badge.svg\" alt=\"Open In Colab\"/></a>"
      ]
    },
    {
      "cell_type": "markdown",
      "metadata": {
        "id": "fZpSr1V9vr47"
      },
      "source": [
        "# Colabプログラム入門(3) リストと乱数"
      ]
    },
    {
      "cell_type": "markdown",
      "metadata": {
        "id": "0QftP3Aivr48"
      },
      "source": [
        "# リストことはじめ\n",
        "複数のデータをまとめて扱う時には **リスト** を使うと便利である． \n",
        "\n",
        "リストを作る最も簡単な方法は，`[`と`]`の中に要素をカンマ(`,`)で区切って並べる方法である．\n",
        "\n",
        "たとえば，以下のコードは，`fruits` という変数を定義し，果物の名前からなるリストで初期化する．"
      ]
    },
    {
      "cell_type": "code",
      "metadata": {
        "id": "r6DoQzXCvr49",
        "colab": {
          "base_uri": "https://localhost:8080/"
        },
        "outputId": "d2814435-9aba-424c-c730-4b33564eeec1"
      },
      "source": [
        "fruits = ['banana', 'apple', 'banana', 'orange', 'banana', 'peach', 'apple']\n",
        "fruits # リストの中身を表示させる"
      ],
      "execution_count": 1,
      "outputs": [
        {
          "output_type": "execute_result",
          "data": {
            "text/plain": [
              "['banana', 'apple', 'banana', 'orange', 'banana', 'peach', 'apple']"
            ]
          },
          "metadata": {},
          "execution_count": 1
        }
      ]
    },
    {
      "cell_type": "markdown",
      "metadata": {
        "id": "oUDDvPrLvr5A"
      },
      "source": [
        "リストの各要素には，0から始まる **インデックス** がついている． 上記のコード・セルで生成される `fruits` というリストの各インデックスの要素は，以下のようになっている．\n",
        "\n",
        "|インデックス|要素|\n",
        "|---|---|\n",
        "|`0`|`'banana'`|\n",
        "|`1`|`'apple'`|\n",
        "|`2`|`'banana'`|\n",
        "|`3`|`'orange'`|\n",
        "|`4`|`'banana'`|\n",
        "|`5`|`'peach'`|\n",
        "|`6`|`'apple'`|\n",
        "\n",
        "**リスト**と**インデックス**の関係は，**アパート**と**部屋番号**の関係に似ている．`fruits`がアパートの名前でインデックス`n`というのは`n`号室に相当すると考えてみると理解しやすいかもしれない．\n",
        "\n",
        "`fruits`のインデックス`n`(`n`号室)の要素にアクセスするには， `fruits[n]`とする． 以下のコードで `n=0` の値をいろいろ変えて実行してみよう．"
      ]
    },
    {
      "cell_type": "code",
      "metadata": {
        "id": "ILsfhlwOvr5B",
        "colab": {
          "base_uri": "https://localhost:8080/"
        },
        "outputId": "2a77c42f-80e5-4eae-c033-a59dead3bd4d"
      },
      "source": [
        "n = 0\n",
        "print( fruits[n] )"
      ],
      "execution_count": 2,
      "outputs": [
        {
          "output_type": "stream",
          "name": "stdout",
          "text": [
            "banana\n"
          ]
        }
      ]
    },
    {
      "cell_type": "markdown",
      "metadata": {
        "id": "Ji_rCyCqvr5D"
      },
      "source": [
        "インデックスに負の値(`-n`)を与えると，リストの末尾から`n`番目の要素にアクセスできる． 以下のコードでは `n=-1` の時はリストの最後の要素`iris`が表示される．`n=-1`の部分をいろいろ変えて実行してみよう．"
      ]
    },
    {
      "cell_type": "code",
      "metadata": {
        "id": "m1QFYdD2vr5E",
        "colab": {
          "base_uri": "https://localhost:8080/"
        },
        "outputId": "adce1fa1-5e24-49e5-f990-5c7541677368"
      },
      "source": [
        "n = -1\n",
        "print( fruits[n] )"
      ],
      "execution_count": 3,
      "outputs": [
        {
          "output_type": "stream",
          "name": "stdout",
          "text": [
            "apple\n"
          ]
        }
      ]
    },
    {
      "cell_type": "markdown",
      "metadata": {
        "id": "bfRKsjgFvr5G"
      },
      "source": [
        "存在しないインデックス(上記の場合，7以降や，-8以前)を参照しようとするとエラーが出る． 7部屋しかないアパート(部屋番号は0, 1, 2, 3, 4, 5, 6)に「7号室」の住人が存在しないのと同じ．"
      ]
    },
    {
      "cell_type": "code",
      "metadata": {
        "id": "asjESCj2vr5G",
        "colab": {
          "base_uri": "https://localhost:8080/",
          "height": 191
        },
        "outputId": "38d6e264-7aa9-44eb-ff85-5a448003d5f8"
      },
      "source": [
        "n = 7\n",
        "print( fruits[n] )"
      ],
      "execution_count": 4,
      "outputs": [
        {
          "output_type": "error",
          "ename": "IndexError",
          "evalue": "ignored",
          "traceback": [
            "\u001b[0;31m---------------------------------------------------------------------------\u001b[0m",
            "\u001b[0;31mIndexError\u001b[0m                                Traceback (most recent call last)",
            "\u001b[0;32m<ipython-input-4-43eba7c147ee>\u001b[0m in \u001b[0;36m<module>\u001b[0;34m()\u001b[0m\n\u001b[1;32m      1\u001b[0m \u001b[0mn\u001b[0m \u001b[0;34m=\u001b[0m \u001b[0;36m7\u001b[0m\u001b[0;34m\u001b[0m\u001b[0;34m\u001b[0m\u001b[0m\n\u001b[0;32m----> 2\u001b[0;31m \u001b[0mprint\u001b[0m\u001b[0;34m(\u001b[0m \u001b[0mfruits\u001b[0m\u001b[0;34m[\u001b[0m\u001b[0mn\u001b[0m\u001b[0;34m]\u001b[0m \u001b[0;34m)\u001b[0m\u001b[0;34m\u001b[0m\u001b[0;34m\u001b[0m\u001b[0m\n\u001b[0m",
            "\u001b[0;31mIndexError\u001b[0m: list index out of range"
          ]
        }
      ]
    },
    {
      "cell_type": "markdown",
      "metadata": {
        "id": "-Z9LCq35vr5I"
      },
      "source": [
        "リストの要素の変わりにリスト名を`print`関数に渡せば，リスト全体を表示させられる．"
      ]
    },
    {
      "cell_type": "code",
      "metadata": {
        "id": "ceFfPq0Hvr5I",
        "colab": {
          "base_uri": "https://localhost:8080/"
        },
        "outputId": "eff8e1e2-6167-42e0-dcf1-8eb222ece3ee"
      },
      "source": [
        "print( fruits )"
      ],
      "execution_count": 5,
      "outputs": [
        {
          "output_type": "stream",
          "name": "stdout",
          "text": [
            "['banana', 'apple', 'banana', 'orange', 'banana', 'peach', 'apple']\n"
          ]
        }
      ]
    },
    {
      "cell_type": "markdown",
      "metadata": {
        "id": "Wk02TUPgvr5K"
      },
      "source": [
        "リストの長さを獲得するには, [`len`関数](https://docs.python.org/3/library/functions.html#len)を使う． リストの**インデックス(部屋番号)の最大値はリストの長さより1だけ小さい**ことに注意しよう．"
      ]
    },
    {
      "cell_type": "code",
      "metadata": {
        "id": "tqo2ybqRvr5L",
        "colab": {
          "base_uri": "https://localhost:8080/"
        },
        "outputId": "7382fec8-e7b7-40a1-8603-835b01920677"
      },
      "source": [
        "len( fruits )"
      ],
      "execution_count": 6,
      "outputs": [
        {
          "output_type": "execute_result",
          "data": {
            "text/plain": [
              "7"
            ]
          },
          "metadata": {},
          "execution_count": 6
        }
      ]
    },
    {
      "cell_type": "markdown",
      "metadata": {
        "id": "l_kh_DB8vr5N"
      },
      "source": [
        "## リストへの要素の追加と削除\n",
        "リストに対する操作として，この講義では以下の6つを紹介しておく\n",
        "\n",
        "|命令|使用例|効果|\n",
        "|---|---|---|\n",
        "|`append`|`fruits.append('orange')`| リスト`fruits`の末尾に `'orange'`を追加する |\n",
        "|`remove`|`fruits.remove('banana')` |  リスト`fruits`の最初の要素 `'banana'` を削除する('banana'がリスト内に無い場合はエラー) |\n",
        "|`count` | `fruits.count('apple')` | リスト`fruits`内の要素`'apple'`の個数を出力 | \n",
        "|`index` | `fruits.index('apple')` | リスト `fruits`内の最初の要素 `'apple'`のインデックスを得る(`'apple'`がリスト内に無い場合はエラー)| \n",
        "|`in`|`'kiwi' in fruits`| リスト `fruits` 内に `kiwi`が1つでもあれば `True`, そうでなければ `False` を返す|\n",
        "|`+` |`fruits = fr0 + fr1` | 2つのリスト`fr0`と`fr1`を連結したものを `fruits`に代入|\n",
        "\n",
        "次のセルは，上述の操作の例を示す．"
      ]
    },
    {
      "cell_type": "code",
      "metadata": {
        "id": "PUJZGkPTvr5N",
        "colab": {
          "base_uri": "https://localhost:8080/"
        },
        "outputId": "c65e7850-409f-4c6b-c84e-9258706d212e"
      },
      "source": [
        "# 2つのリスト fr0 および fr1 から fruites を構成する\n",
        "fr0 = ['banana', 'apple', 'banana', 'orange']\n",
        "fr1 = ['banana', 'peach', 'apple']\n",
        "fruits = fr0 + fr1\n",
        "print( len(fruits), fruits ) # fruits の長さと内容を表示\n",
        "\n",
        "# append: リスト末尾への要素の追加\n",
        "fruits.append('orange') # fruits の末尾に 'orange' が追加され，長さが1つ増えて8になる\n",
        "print( len(fruits), fruits ) # fruits の長さと内容を表示\n",
        "\n",
        "# remove: リスト内から特定の要素を消去\n",
        "fruits.remove('orange') # fruits の中から最初の 'orange' が削除され，長さが1つ減って7になる\n",
        "print( len(fruits), fruits ) # fruits の長さと内容を表示\n",
        "\n",
        "# count: リスト内の特定の要素の個数を取得\n",
        "cnt = fruits.count('apple') # fruits の中の `apple` の個数(=2)を変数 cnt に代入\n",
        "print( \"fruits.count('apple')=\", cnt ) # cnt を表示\n",
        "\n",
        "# index: リスト内の特定の要素のインデックスを取得\n",
        "ind = fruits.index('apple') # fruits の中から 'apple' のインデックス(=1)が変数 ind に格納される(リストに変更なし)\n",
        "print( \"fruits.index('apple')=\", ind ) # ind を表示\n",
        "\n",
        "# in: fruits の中に 'kiwi' があれば True, そうでなければ False を変数 is_kiwi_in_fruits に代入\n",
        "is_kiwi_in_fruits = 'kiwi' in fruits\n",
        "print( is_kiwi_in_fruits )"
      ],
      "execution_count": 7,
      "outputs": [
        {
          "output_type": "stream",
          "name": "stdout",
          "text": [
            "7 ['banana', 'apple', 'banana', 'orange', 'banana', 'peach', 'apple']\n",
            "8 ['banana', 'apple', 'banana', 'orange', 'banana', 'peach', 'apple', 'orange']\n",
            "7 ['banana', 'apple', 'banana', 'banana', 'peach', 'apple', 'orange']\n",
            "fruits.count('apple')= 2\n",
            "fruits.index('apple')= 1\n",
            "False\n"
          ]
        }
      ]
    },
    {
      "cell_type": "markdown",
      "metadata": {
        "id": "8QplIsfsnXDj"
      },
      "source": [
        "# リストを使った繰返し処理\n",
        "リストを使うと，大量のデータに対して同じ処理を繰り返すのが容易になる．\n"
      ]
    },
    {
      "cell_type": "markdown",
      "metadata": {
        "id": "dxo3xdXEpHwj"
      },
      "source": [
        "### リストを使ったRSA 暗号化・複合化\n",
        "Python では**文字列**もリスト(のようなもの)として扱われる．このことを利用すれば，前回の課題でやったようなRSA暗号/複合による文字列(課題では漢詩)のやり取りが容易になる． 具体的には，\n",
        "\n",
        "- [手順1] 元の文字列 `plain_text` に対応したRSA暗号コードのリスト `codes` を作成する\n",
        "- [手順2] 暗号コードのリスト `codes` を複合化して得られる `text` を作成する\n",
        "\n",
        "の2つを説明しよう． \n"
      ]
    },
    {
      "cell_type": "markdown",
      "metadata": {
        "id": "PzdRVuN4WKYu"
      },
      "source": [
        "### 文字列のコード化/コードの文字列化\n",
        "まずは，**暗号化/複合化のことは一度忘れて**，\n",
        "- [手順1'] 元の文字列 `plain_text` の各要素(i.e. 各文字)に対応する (暗号化されない) Unicodeコードポイントのリスト `points` を作成する\n",
        "- [手順2'] `points` の各要素(i.e. 各コードポイント)に対応する文字のリストを作成する．\n",
        "\n",
        "をやってみる． \n"
      ]
    },
    {
      "cell_type": "markdown",
      "metadata": {
        "id": "Znf8C5kBvQry"
      },
      "source": [
        "まず，[手順1']の準備として，文字列(**リスト**)を変数 `plain_text` に格納しておき，それぞれの**文字**に対する Unicode コードポイントを表示させる，ということをしてみよう. "
      ]
    },
    {
      "cell_type": "code",
      "metadata": {
        "colab": {
          "base_uri": "https://localhost:8080/"
        },
        "id": "fvyS5VCorBpk",
        "outputId": "3b49d30b-408d-41ff-d722-abadac63e0e7"
      },
      "source": [
        "# 元のテキスト\n",
        "plain_text = \"国破山河在\"\n",
        "# Unicode ポイントを表示させる\n",
        "for t in plain_text:\n",
        "    print(\"\\\"{}\\\"\".format(t), ord(t))\n"
      ],
      "execution_count": 8,
      "outputs": [
        {
          "output_type": "stream",
          "name": "stdout",
          "text": [
            "\"国\" 22269\n",
            "\"破\" 30772\n",
            "\"山\" 23665\n",
            "\"河\" 27827\n",
            "\"在\" 22312\n"
          ]
        }
      ]
    },
    {
      "cell_type": "markdown",
      "metadata": {
        "id": "jChFsSX4wISg"
      },
      "source": [
        "それぞれのコードポイントを格納したリストを作るには，空のリスト `points` を用意しておき， `append` 関数を使って，各文字に対応するコードポイントを末尾に追加する，という方法を使う． "
      ]
    },
    {
      "cell_type": "code",
      "metadata": {
        "colab": {
          "base_uri": "https://localhost:8080/"
        },
        "id": "_odmC9POT6hs",
        "outputId": "e0c2029b-86c5-4c13-9038-56ec98088b87"
      },
      "source": [
        "points = [] # 空のリストをつくる\n",
        "for t in plain_text:\n",
        "    points.append( ord(t) ) # plain_text 内の各要素(文字)に対応するコードポイントを追加する\n",
        "print(points)"
      ],
      "execution_count": 9,
      "outputs": [
        {
          "output_type": "stream",
          "name": "stdout",
          "text": [
            "[22269, 30772, 23665, 27827, 22312]\n"
          ]
        }
      ]
    },
    {
      "cell_type": "markdown",
      "metadata": {
        "id": "_ur_uYU-UTch"
      },
      "source": [
        "[手順2']では， この逆に `points` に格納された各コードポイントを順に `text` に追加すればよい.\n"
      ]
    },
    {
      "cell_type": "code",
      "metadata": {
        "colab": {
          "base_uri": "https://localhost:8080/"
        },
        "id": "DJixDaRfUSnD",
        "outputId": "ca729413-7813-4b16-b9b9-055cd77b3ee7"
      },
      "source": [
        "text = [] # 空のリストを作る\n",
        "for z in points:\n",
        "    text.append( chr(z) ) # コードポイントに対応する文字を追加する\n",
        "print(text)"
      ],
      "execution_count": 10,
      "outputs": [
        {
          "output_type": "stream",
          "name": "stdout",
          "text": [
            "['国', '破', '山', '河', '在']\n"
          ]
        }
      ]
    },
    {
      "cell_type": "markdown",
      "metadata": {
        "id": "ieIIiSKiVXTs"
      },
      "source": [
        "ちょっとテクニカルだが，この文字のリストを文字列にするには，[str.join関数](https://docs.python.org/ja/3/library/stdtypes.html?highlight=join#str.join)を使って，文字のリストの中の各要素を空の文字(\"\")で連結させればよい． よくわからない人はオマジナイだと思って下記を実行してもいい．"
      ]
    },
    {
      "cell_type": "code",
      "metadata": {
        "colab": {
          "base_uri": "https://localhost:8080/"
        },
        "id": "Fqn4cBsXV6BI",
        "outputId": "c597877e-4312-45b2-cccf-bcb32008af49"
      },
      "source": [
        "string = \"\".join(text) # 「文字のリスト」を文字列にする\n",
        "print( string )"
      ],
      "execution_count": 12,
      "outputs": [
        {
          "output_type": "stream",
          "name": "stdout",
          "text": [
            "国破山河在\n"
          ]
        }
      ]
    },
    {
      "cell_type": "markdown",
      "metadata": {
        "id": "xPLrTY-oWXMk"
      },
      "source": [
        "### RSA暗号化/複合化\n",
        "上記のプロセスに暗号化/複合化を取り入れよう．まずは，公開鍵と秘密鍵を用意する．"
      ]
    },
    {
      "cell_type": "code",
      "metadata": {
        "colab": {
          "base_uri": "https://localhost:8080/"
        },
        "id": "uaRsoJd5pEUg",
        "outputId": "52f8c46c-eace-41b1-dbf4-85d1aa97cc4c"
      },
      "source": [
        "import math\n",
        "p = 2147483647 \n",
        "q = 200560490131\n",
        "N = p*q\n",
        "M = (p-1)*(q-1)\n",
        "# r を求める\n",
        "for r in range(2,M):\n",
        "    if math.gcd(M, r) == 1:\n",
        "        break\n",
        "# s を求める\n",
        "# 拡張 Euclid 互除法 (a > b であるとき, a*x + b*y = gcd(a, b) となる gcd, x, y を求める)\n",
        "def ext_gcd(a, b):\n",
        "    if b > 0:\n",
        "        x, y = ext_gcd(b, a % b) # 再帰呼び出しを使う\n",
        "        return y - (a // b) *x, x\n",
        "    return 0, 1 \n",
        "# 拡張 Euclid 互除法を用いて s をもとめる\n",
        "s = ext_gcd(M, r)[0] % M \n",
        "print(\"N:{}\\nr:{}\\ns:{}\".format(N, r, s))"
      ],
      "execution_count": 13,
      "outputs": [
        {
          "output_type": "stream",
          "name": "stdout",
          "text": [
            "N:430700372790627387757\n",
            "r:37\n",
            "s:221170461599201861233\n"
          ]
        }
      ]
    },
    {
      "cell_type": "markdown",
      "metadata": {
        "id": "Zje_o8b8Wvuf"
      },
      "source": [
        "まず，\n",
        "\n",
        "[手順1] 元の文字列 plain_text に対応したRSA暗号コードのリスト codes を作成する\n",
        "\n",
        "を行うためには， 空のリスト `codes` を用意して， `plain_text` 内の各文字 `t` に対するコードポイント `ord(t)` を， 下記の関数で暗号化したもの付け加えればいい．\n",
        "```\n",
        "pow( ord(t), r, N )\n",
        "```\n",
        "\n",
        "次のコードと[手順1']に対応するコードとの違いをよく見ておこう．"
      ]
    },
    {
      "cell_type": "code",
      "metadata": {
        "colab": {
          "base_uri": "https://localhost:8080/"
        },
        "id": "iNADdV3vqD04",
        "outputId": "f47b947c-0298-4fac-9fbf-91549c1536d0"
      },
      "source": [
        "codes = [] # 空のリストをつくる\n",
        "for t in plain_text: # plain_text 内の各要素(文字)に対応するコードポイントを暗号化して codes に追加する\n",
        "    codes.append( pow( ord(t), r, N ) )\n",
        "print(codes)"
      ],
      "execution_count": 14,
      "outputs": [
        {
          "output_type": "stream",
          "name": "stdout",
          "text": [
            "[234801175114856694219, 310119012347063789827, 375316860437689720185, 86956151039439756037, 363379270691824403364]\n"
          ]
        }
      ]
    },
    {
      "cell_type": "markdown",
      "metadata": {
        "id": "KRs96e-LXpJU"
      },
      "source": [
        "次に，\n",
        "\n",
        "[手順2] 暗号コードのリスト codes を複合化して得られる text を作成する\n",
        "\n",
        "は， `codes` 内の各要素 `c` に対して\n",
        "```\n",
        "pow( c, s, N )\n",
        "```\n",
        "を行なって複合化したものを `chr` として文字に変換すればよい．\n",
        "\n",
        "\n"
      ]
    },
    {
      "cell_type": "code",
      "metadata": {
        "id": "pr8nMlevZGZG",
        "colab": {
          "base_uri": "https://localhost:8080/"
        },
        "outputId": "6dc3edec-2840-4dec-c815-ceacc00cc474"
      },
      "source": [
        "text = [] # 空のリストを作る\n",
        "for c in codes:\n",
        "    text.append( chr(  pow( c, s, N) ) ) # 暗号化された数値を複合化したコードポイントに対応する文字を追加する\n",
        "string = \"\".join(text) # 文字のリストを文字列に変換(textを)\n",
        "print(string)"
      ],
      "execution_count": 16,
      "outputs": [
        {
          "output_type": "stream",
          "name": "stdout",
          "text": [
            "国破山河在\n"
          ]
        }
      ]
    },
    {
      "cell_type": "markdown",
      "metadata": {
        "id": "uXtMlt7ca9k7"
      },
      "source": [
        "このようにリストと `for` による繰返しを使えば，長い文字列も容易に暗号化\b・複合化できる．"
      ]
    },
    {
      "cell_type": "code",
      "metadata": {
        "colab": {
          "base_uri": "https://localhost:8080/"
        },
        "id": "uymXrOn8a8QM",
        "outputId": "ea20e243-0047-4a40-a7dd-f5b2a0daf39d"
      },
      "source": [
        "# ちょっと長い文字列\n",
        "plain_text = \"寿限無寿限無，五劫のすり切れ，海砂利水魚の水行末，雲来末，風来末，食う寝るところに住むところ，やぶらこうじのぶらこうじ，パイポパイポ，パイポのシューリンガン，シューリンガンのグーリンダイ，グーリンダイのポンポコピーのポンポコナの長久命の長助\"\n",
        "#\n",
        "# 暗号化\n",
        "#\n",
        "codes = [] # 空のリストをつくる\n",
        "for t in plain_text: # plain_text 内の各要素(文字)に対応するコードポイントを暗号化して codes に追加する\n",
        "    codes.append( pow( ord(t), r, N ) )\n",
        "print(codes)\n",
        "#\n",
        "# 複合化\n",
        "#\n",
        "text = [] # 空のリストを作る\n",
        "for c in codes:\n",
        "    text.append( chr(  pow( c, s, N) ) ) # 暗号化された数値を複合化したコードポイントに対応する文字を追加する\n",
        "text = \"\".join(text) # 文字のリストを文字列に変換\n",
        "print(text)"
      ],
      "execution_count": 17,
      "outputs": [
        {
          "output_type": "stream",
          "name": "stdout",
          "text": [
            "[48098760470719513333, 380704520939795507900, 140848368911603498049, 48098760470719513333, 380704520939795507900, 140848368911603498049, 107683011692300284333, 396555487224217249387, 234612752010473888240, 231312195645662950035, 363240912589803485634, 228764084578948815893, 116971033999252257210, 56117651568552248269, 107683011692300284333, 179924126366837990310, 144238587484720263522, 188161207422255443047, 84528437489304935442, 335478224998635193555, 231312195645662950035, 84528437489304935442, 278625900487419112545, 96330334306358634212, 107683011692300284333, 297604801717456172960, 146555310447474716077, 96330334306358634212, 107683011692300284333, 245692592679144372119, 146555310447474716077, 96330334306358634212, 107683011692300284333, 384143506661704364405, 4262622694212107734, 168916969508315402494, 23610108503332529287, 249991650698447750081, 266682200617855275261, 177021873127836596232, 151748138506695231418, 198584155150245647245, 20105498990638084416, 249991650698447750081, 266682200617855275261, 177021873127836596232, 107683011692300284333, 428783235539565791589, 125717494355391375757, 407702834651852589101, 266682200617855275261, 4262622694212107734, 381807276789922046692, 231312195645662950035, 125717494355391375757, 407702834651852589101, 266682200617855275261, 4262622694212107734, 381807276789922046692, 107683011692300284333, 138163620085525264179, 382277951787681484635, 430284902853353100070, 138163620085525264179, 382277951787681484635, 430284902853353100070, 107683011692300284333, 138163620085525264179, 382277951787681484635, 430284902853353100070, 231312195645662950035, 256440634101415419380, 384499154592985675657, 70373128074009907239, 428376762567014767872, 341555648877885589225, 305469311900178485587, 341555648877885589225, 107683011692300284333, 256440634101415419380, 384499154592985675657, 70373128074009907239, 428376762567014767872, 341555648877885589225, 305469311900178485587, 341555648877885589225, 231312195645662950035, 21252279881452555034, 70373128074009907239, 428376762567014767872, 341555648877885589225, 142802842528933455078, 382277951787681484635, 107683011692300284333, 21252279881452555034, 70373128074009907239, 428376762567014767872, 341555648877885589225, 142802842528933455078, 382277951787681484635, 231312195645662950035, 430284902853353100070, 341555648877885589225, 430284902853353100070, 145358859211698382801, 185171857916861337354, 70373128074009907239, 231312195645662950035, 430284902853353100070, 341555648877885589225, 430284902853353100070, 145358859211698382801, 145066591865610206310, 231312195645662950035, 250936472792521042936, 32729681917351191320, 184983182493898424387, 231312195645662950035, 250936472792521042936, 142377503804888041755]\n",
            "寿限無寿限無，五劫のすり切れ，海砂利水魚の水行末，雲来末，風来末，食う寝るところに住むところ，やぶらこうじのぶらこうじ，パイポパイポ，パイポのシューリンガン，シューリンガンのグーリンダイ，グーリンダイのポンポコピーのポンポコナの長久命の長助\n"
          ]
        }
      ]
    },
    {
      "cell_type": "markdown",
      "metadata": {
        "id": "mCM8KwCwvxPO"
      },
      "source": [
        "# リスト内包表記(ちょっと上級)\n",
        "この節は，**リスト内包表記**という Python に特有の機能を紹介する．リスト内包表記は，**うまく使えば**，コードを短縮化して見易くできる上に処理速度も向上するため，多くのプログラマに利用されている．しかし，不適切なリスト内包表記はプログラムの可読性を損ない保守を困難にする．何度も使ってみて，その利点と欠点のうまいバランスを掴んで欲しい．\n",
        "\n",
        "## リスト内包表記ことはじめ\n",
        "上述の暗号化の[手順1]では，\n",
        "1. 空のリスト`codes`を用意する：\n",
        "  ```python\n",
        "  codes = []\n",
        "  ```\n",
        "2. `plain_text`内の要素`t`に対応するコードポイントを暗号化したものを`codes`に追加する：\n",
        "  ```python\n",
        "  for t in plain_text:\n",
        "      codes.append( pow( ord(t), r, N ) )\n",
        "  ```\n",
        "\n",
        "という2段階の処理を行なっていた．この処理は**リスト内包表記**を使って次の1行で書ける：\n",
        "```python\n",
        "codes = [ pow( ord(t), r, N ) for t in plain_text]\n",
        "```\n"
      ]
    },
    {
      "cell_type": "code",
      "metadata": {
        "colab": {
          "base_uri": "https://localhost:8080/"
        },
        "id": "07QM8gMAdlHk",
        "outputId": "c11a1734-b2d0-4487-eac4-b10b1985fcc7"
      },
      "source": [
        "# 1行で暗号化\n",
        "plain_text = \"寿限無寿限無，五劫のすり切れ，海砂利水魚の水行末，雲来末，風来末，食う寝るところに住むところ，やぶらこうじのぶらこうじ，パイポパイポ，パイポのシューリンガン，シューリンガンのグーリンダイ，グーリンダイのポンポコピーのポンポコナの長久命の長助\"\n",
        "codes = [ pow( ord(t), r, N ) for t in plain_text ]\n",
        "print(codes)"
      ],
      "execution_count": 18,
      "outputs": [
        {
          "output_type": "stream",
          "name": "stdout",
          "text": [
            "[48098760470719513333, 380704520939795507900, 140848368911603498049, 48098760470719513333, 380704520939795507900, 140848368911603498049, 107683011692300284333, 396555487224217249387, 234612752010473888240, 231312195645662950035, 363240912589803485634, 228764084578948815893, 116971033999252257210, 56117651568552248269, 107683011692300284333, 179924126366837990310, 144238587484720263522, 188161207422255443047, 84528437489304935442, 335478224998635193555, 231312195645662950035, 84528437489304935442, 278625900487419112545, 96330334306358634212, 107683011692300284333, 297604801717456172960, 146555310447474716077, 96330334306358634212, 107683011692300284333, 245692592679144372119, 146555310447474716077, 96330334306358634212, 107683011692300284333, 384143506661704364405, 4262622694212107734, 168916969508315402494, 23610108503332529287, 249991650698447750081, 266682200617855275261, 177021873127836596232, 151748138506695231418, 198584155150245647245, 20105498990638084416, 249991650698447750081, 266682200617855275261, 177021873127836596232, 107683011692300284333, 428783235539565791589, 125717494355391375757, 407702834651852589101, 266682200617855275261, 4262622694212107734, 381807276789922046692, 231312195645662950035, 125717494355391375757, 407702834651852589101, 266682200617855275261, 4262622694212107734, 381807276789922046692, 107683011692300284333, 138163620085525264179, 382277951787681484635, 430284902853353100070, 138163620085525264179, 382277951787681484635, 430284902853353100070, 107683011692300284333, 138163620085525264179, 382277951787681484635, 430284902853353100070, 231312195645662950035, 256440634101415419380, 384499154592985675657, 70373128074009907239, 428376762567014767872, 341555648877885589225, 305469311900178485587, 341555648877885589225, 107683011692300284333, 256440634101415419380, 384499154592985675657, 70373128074009907239, 428376762567014767872, 341555648877885589225, 305469311900178485587, 341555648877885589225, 231312195645662950035, 21252279881452555034, 70373128074009907239, 428376762567014767872, 341555648877885589225, 142802842528933455078, 382277951787681484635, 107683011692300284333, 21252279881452555034, 70373128074009907239, 428376762567014767872, 341555648877885589225, 142802842528933455078, 382277951787681484635, 231312195645662950035, 430284902853353100070, 341555648877885589225, 430284902853353100070, 145358859211698382801, 185171857916861337354, 70373128074009907239, 231312195645662950035, 430284902853353100070, 341555648877885589225, 430284902853353100070, 145358859211698382801, 145066591865610206310, 231312195645662950035, 250936472792521042936, 32729681917351191320, 184983182493898424387, 231312195645662950035, 250936472792521042936, 142377503804888041755]\n"
          ]
        }
      ]
    },
    {
      "cell_type": "markdown",
      "metadata": {
        "id": "-Ncq3Ykcdj_e"
      },
      "source": [
        "\n",
        "リスト内包表記の基本構造は，以下のように表せる：\n",
        "```python\n",
        "[ 【式】 for 【変数】 in 【リスト】 ]\n",
        "[ 【式】 for 【変数】 in 【リスト】 if 【条件式】 ]\n",
        "```\n",
        "前者は 「【リスト】の中の各要素を【変数】に入れ，それを【式】で評価したもの」 のリストを構築する．例えば，以下は「0以上N未満の整数のそれぞれを2乗したもの」のリストを返す：\n",
        "```python\n",
        "[ n**2 for n in range(N) ]\n",
        "```\n",
        "後者は 「【リスト】の中の各要素を【変数】に入れ，それが【条件式】を満たす(真となる)ものついてのみ，【式】を評価したもの」のリストを構築する．例えば，以下は「0以上N未満の\"奇数\"のそれぞれを2乗したもの」のリストを返す:\n",
        "```python\n",
        "[ n**2 for n in range(N) if n%2 == 1]\n",
        "```\n"
      ]
    },
    {
      "cell_type": "code",
      "metadata": {
        "colab": {
          "base_uri": "https://localhost:8080/"
        },
        "id": "0v_cfY0k8WJQ",
        "outputId": "c613f210-ed88-4f44-d39f-d2226d77933c"
      },
      "source": [
        "N = 10\n",
        "print( [n ** 2 for n in range(N)] )\n",
        "print( [n ** 2 for n in range(N) if n %2 ==1])"
      ],
      "execution_count": 19,
      "outputs": [
        {
          "output_type": "stream",
          "name": "stdout",
          "text": [
            "[0, 1, 4, 9, 16, 25, 36, 49, 64, 81]\n",
            "[1, 9, 25, 49, 81]\n"
          ]
        }
      ]
    },
    {
      "cell_type": "markdown",
      "metadata": {
        "id": "5gnwAyR91X4h"
      },
      "source": [
        "## RSA暗号もリスト内包表記ですっきり\n",
        "リスト内包表記を使えば，RSA暗号の暗号化・複合化もすっきり書ける． まずは公開鍵と秘密鍵を計算しておく．"
      ]
    },
    {
      "cell_type": "code",
      "metadata": {
        "id": "VgovQJGR1of6",
        "colab": {
          "base_uri": "https://localhost:8080/"
        },
        "outputId": "558b88c6-19de-4b9d-d9b7-9b6893a536fe"
      },
      "source": [
        "#\n",
        "# サンプルコード: rsa_key\n",
        "# RSA暗号の公開鍵，秘密鍵を生成する\n",
        "#\n",
        "import math # 最大公約数を求める関数 math.gcd を使うために必要\n",
        "(p, q) = (3631339, 3627769) # 2つの異なる素数を用意する\n",
        "N = p*q # 手続き1: Nを計算\n",
        "M = (p-1)*(q-1) # 手続き2: Mを計算\n",
        "\n",
        "# 手続き3: 整数列 2, 3, ..., M-1 の各要素を変数 r に順に代入し， r と M の最大公約数が1となったところで停止する\n",
        "for r in range(2,M):\n",
        "    if math.gcd(r, M) == 1:\n",
        "        break\n",
        "\n",
        "# 手続き4: 拡張ユークリッド互除法を用いて, r*s % M = 1 なる s を求める．\n",
        "(a, b) = (r, M)\n",
        "(x, y, X, Y) = (1, 0, 0, 1)\n",
        "while b != 0:\n",
        "    (q, a, b) = (a//b, b, a%b)\n",
        "    (x, X) = (X, x - q*X)\n",
        "    (y, Y) = (Y, y - q*Y)\n",
        "s = x\n",
        "# 結果の出力\n",
        "print(\"公開鍵: (N,r)=({0}, {1})\".format(N, r))\n",
        "print(\"秘密鍵: s={0}\".format(s))"
      ],
      "execution_count": 20,
      "outputs": [
        {
          "output_type": "stream",
          "name": "stdout",
          "text": [
            "公開鍵: (N,r)=(13173659052691, 5)\n",
            "秘密鍵: s=2634730358717\n"
          ]
        }
      ]
    },
    {
      "cell_type": "code",
      "metadata": {
        "id": "lUsHswEA4iJV",
        "colab": {
          "base_uri": "https://localhost:8080/"
        },
        "outputId": "846076b5-9564-43d4-84d0-67b06ce52aee"
      },
      "source": [
        "plain_text = \"寿限無寿限無，五劫のすり切れ，海砂利水魚の水行末，雲来末，風来末，食う寝るところに住むところ，やぶらこうじのぶらこうじ，パイポパイポ，パイポのシューリンガン，シューリンガンのグーリンダイ，グーリンダイのポンポコピーのポンポコナの長久命の長助\"\n",
        "codes = [ pow( ord(t), r, N ) for t in plain_text ]\n",
        "print(codes)"
      ],
      "execution_count": 21,
      "outputs": [
        {
          "output_type": "stream",
          "name": "stdout",
          "text": [
            "[8147794798051, 7600468874659, 7368355645539, 8147794798051, 7600468874659, 7368355645539, 2898531932308, 10648118274183, 4270565300787, 11356763446791, 10337436807360, 10871321208033, 1971219393032, 2216070379161, 2898531932308, 9619100540048, 10308520157535, 5993386544958, 7125422358658, 9879942459187, 11356763446791, 7125422358658, 8600419287309, 11456395347166, 2898531932308, 11015107300867, 6148927589303, 11456395347166, 2898531932308, 854558633560, 6148927589303, 11456395347166, 2898531932308, 5407852855792, 229996513772, 5726986850444, 526297799323, 949866220687, 4593420932353, 2776246460246, 6022209809997, 12447556453764, 10125531305555, 949866220687, 4593420932353, 2776246460246, 2898531932308, 8985620374497, 3874213261996, 6894557425759, 4593420932353, 229996513772, 4651996264434, 11356763446791, 3874213261996, 6894557425759, 4593420932353, 229996513772, 4651996264434, 2898531932308, 7322691741328, 1873906898484, 3904464186938, 7322691741328, 1873906898484, 3904464186938, 2898531932308, 7322691741328, 1873906898484, 3904464186938, 11356763446791, 11861903841594, 1440552282397, 5028022235906, 1408468946561, 9986632408025, 11088463064571, 9986632408025, 2898531932308, 11861903841594, 1440552282397, 5028022235906, 1408468946561, 9986632408025, 11088463064571, 9986632408025, 11356763446791, 2009948612048, 5028022235906, 1408468946561, 9986632408025, 2548463673448, 1873906898484, 2898531932308, 2009948612048, 5028022235906, 1408468946561, 9986632408025, 2548463673448, 1873906898484, 11356763446791, 3904464186938, 9986632408025, 3904464186938, 3287965871668, 12404345159636, 5028022235906, 11356763446791, 3904464186938, 9986632408025, 3904464186938, 3287965871668, 8736070714810, 11356763446791, 9825952415390, 8337148054847, 11886159625389, 11356763446791, 9825952415390, 3320402220312]\n"
          ]
        }
      ]
    },
    {
      "cell_type": "markdown",
      "metadata": {
        "id": "oEVD2SQ54qy1"
      },
      "source": [
        "複合化についても同様に行える． いま，`codes`内のあるコードを変数 `c` に格納した時，それを複合化した文字は次の式\n",
        "```python\n",
        "chr( pow(c, s, N) )\n",
        "```\n",
        "で評価できるから，複合化した文字のリストは\n",
        "```python\n",
        "text = [ chr( pow(c, s, N) ) for c in codes ]\n",
        "```\n",
        "で得られる． こうして得られた「文字のリスト」 `text` に対して\n",
        "```python\n",
        "string = \"\".join(text)\n",
        "```\n",
        "とすれば「文字列」に変換できる．\n",
        "\n",
        "もっとシンプルに記述したければ， リスト内包表記を直接`join`関数に引き渡してもよい．\n",
        "```python\n",
        "string = \"\".join( [chr( pow(c, s, N) ) for c in codes] )\n",
        "```\n",
        "実際にやってみよう．"
      ]
    },
    {
      "cell_type": "code",
      "metadata": {
        "id": "c3pPQpKR5V8v",
        "colab": {
          "base_uri": "https://localhost:8080/"
        },
        "outputId": "1d3e96dd-1b62-4bb2-ebff-22b43933b992"
      },
      "source": [
        "string = \"\".join( [chr( pow(c, s, N) ) for c in codes] )\n",
        "print( string )"
      ],
      "execution_count": 23,
      "outputs": [
        {
          "output_type": "stream",
          "name": "stdout",
          "text": [
            "寿限無寿限無，五劫のすり切れ，海砂利水魚の水行末，雲来末，風来末，食う寝るところに住むところ，やぶらこうじのぶらこうじ，パイポパイポ，パイポのシューリンガン，シューリンガンのグーリンダイ，グーリンダイのポンポコピーのポンポコナの長久命の長助\n"
          ]
        }
      ]
    },
    {
      "cell_type": "markdown",
      "metadata": {
        "id": "rYTeKovP7D7h"
      },
      "source": [
        "## リスト内包表記を使ったRSA暗号化・複合化のまとめ\n",
        "結局のところ，RSA暗号を使った暗号化・複合化は，それぞれ，以下のように1行のコードで書ける：\n",
        "- **暗号化** (文字列`plain_text`を暗号コードのリスト`codes`に変換)\n",
        "  ```python\n",
        "  codes = [ pow( ord(t), r, N ) for t in plain_text ]\n",
        "  ```\n",
        "- **複合化** (暗号コードのリスト`codes`を復号した文字列`decoded_text`に変換)\n",
        "  ```python\n",
        "  decoded_text = \"\".join( [chr( pow(c, s, N) ) for c in codes] )\n",
        "  ```\n",
        "\n",
        "楽しい暗号ライフに是非活用して欲しい．\n",
        "\n"
      ]
    },
    {
      "cell_type": "markdown",
      "metadata": {
        "id": "yAgCSExFvr5c"
      },
      "source": [
        "# ランダムな整数列を作ろう\n",
        "`random`モジュールを使うと，**疑似乱数**を生成させられる．乱数は，ゲームを作ったり，大規模な数値実験をしたりする際に欠かせない． `random`モジュールには色々な機能があるが，この講義では[`random.randrange`関数](https://docs.python.org/ja/3/library/random.html#random.randrange)だけを用いる． 以下のコードを実行すれば，`random.randrange`関数を使えるようになる．"
      ]
    },
    {
      "cell_type": "code",
      "metadata": {
        "id": "M-0TCilnvr5c"
      },
      "source": [
        "from random import randrange # randomモジュールからrandrange関数を読込む"
      ],
      "execution_count": 24,
      "outputs": []
    },
    {
      "cell_type": "markdown",
      "metadata": {
        "id": "R35IFTXhvr5f"
      },
      "source": [
        "`randrange`関数の基本的な使い方は以下の2つである．\n",
        "```python\n",
        "randrange(N) # 0以上N未満の乱数を1つ返す\n",
        "randrange(2, N) # 2以上N未満の乱数を1つ返す\n",
        "```\n",
        "\n",
        "次のコードセルは，`N`と`M`が与えられた時に，2以上`N`未満の`M`個の乱数からなるリストを生成する．実行するたびに異なる乱数列が生成されることを確認しよう．"
      ]
    },
    {
      "cell_type": "code",
      "metadata": {
        "id": "92YM2cMdvr5g",
        "colab": {
          "base_uri": "https://localhost:8080/"
        },
        "outputId": "2f4e133e-bb7c-4e08-885f-439d9d033ff0"
      },
      "source": [
        "N = 100 # 乱数の幅\n",
        "M = 50 # 乱数の個数\n",
        "nums = [] # 空のリスト nums を準備\n",
        "for n in range(M): # M回の繰返しの中で「2以上N未満の乱数」を生成し，numsに追加する\n",
        "    nums.append( randrange(2,N) )\n",
        "print(nums) # nums を出力"
      ],
      "execution_count": 25,
      "outputs": [
        {
          "output_type": "stream",
          "name": "stdout",
          "text": [
            "[13, 32, 14, 33, 97, 39, 54, 41, 17, 13, 29, 13, 90, 39, 81, 70, 82, 75, 25, 56, 84, 78, 88, 68, 68, 23, 99, 85, 40, 62, 11, 38, 5, 81, 11, 42, 26, 44, 71, 93, 77, 13, 70, 34, 77, 6, 80, 27, 24, 85]\n"
          ]
        }
      ]
    },
    {
      "cell_type": "markdown",
      "metadata": {
        "id": "cHTngiIWBqAQ"
      },
      "source": [
        "(ちょっと上級者向け)上述の**リスト内包表記**を使えば，もっとシンプルに書ける:"
      ]
    },
    {
      "cell_type": "code",
      "metadata": {
        "id": "V3FF3pqfBwig",
        "colab": {
          "base_uri": "https://localhost:8080/"
        },
        "outputId": "026c205a-7d11-4f32-f30d-3d8573608dae"
      },
      "source": [
        "N = 100 # 乱数の幅\n",
        "M = 50 # 乱数の個数\n",
        "nums = [ randrange(2, N) for n in range(M) ] # M個の「2以上N未満の乱数」からなるリスト nums を作成する\n",
        "print(nums) # nums を出力"
      ],
      "execution_count": 26,
      "outputs": [
        {
          "output_type": "stream",
          "name": "stdout",
          "text": [
            "[72, 12, 69, 83, 12, 43, 73, 51, 41, 61, 19, 20, 29, 57, 60, 88, 37, 25, 68, 64, 22, 71, 83, 76, 29, 96, 41, 65, 16, 94, 9, 99, 22, 45, 8, 86, 42, 90, 62, 98, 37, 41, 26, 7, 16, 44, 70, 14, 28, 47]\n"
          ]
        }
      ]
    },
    {
      "cell_type": "markdown",
      "metadata": {
        "id": "sd5xU-dmvr5j"
      },
      "source": [
        "## ランダムに生成された数列を奇数と偶数とに分類しよう\n",
        "上述のように生成された乱数列 `nums` を奇数と偶数とに分類しよう． 次のコードは， `nums`のうち奇数からなるリスト`odd_nums`と偶数からなるリスト`even_nums`を作成し，それぞれについて個数と最初の20個までの要素を表示させる．\n",
        "\n",
        "その具体的な手順は下記の通り:\n",
        "- [手順0] 空のリスト `odd_nums` と `even_nums`を用意する\n",
        "- [手順1] `nums`の要素を順に変数 `x`に格納し，`x`が奇数ならリスト`odd_nums`に, `x`が偶数ならリスト`even_nums`の末尾に追加する\n",
        "- [手順2] `odd_nums`と`even_nums`のそれぞれについて，個数と最初の20個までの要素を出力する\n",
        "\n",
        "以下，各手順を実装していこう．\n",
        "\n",
        "まず，[手順0]は，\n",
        "```python\n",
        "odd_nums = []\n",
        "even_nums = []\n",
        "```\n",
        "と書ける．\n",
        "\n",
        "次に，[手順1]は，`for`ループを使って\n",
        "```python\n",
        "for x in nums:\n",
        "    if x%2 == 1: # xが奇数なら odd_nums, 偶数なら even_nums のリスト末尾に追加する\n",
        "        odd_nums.append(x)\n",
        "    else:\n",
        "        even_nums.append(x)\n",
        "```\n",
        "と書ける．\n",
        "\n",
        "最後に，[手順2]について，奇数のリスト`odd_nums`の**最初の20個までの要素**を表示するというのは，\n",
        "- `len(odd_nums)>20`ならば 最初の20個 を表示する\n",
        "- `len(odd_nums)<=20` ならば全ての要素を表示する\n",
        "ということに他ならない．\n",
        "\n",
        "まず，`odd_nums`の長さが20を超えている場合に最初の20個を表示するには，以下のようにする：\n",
        "```python\n",
        "print( odd_nums[:20] )\n",
        "```\n",
        "Python ではリストのインデックスに`:`を用いた [**スライス表現**](https://docs.python.org/ja/3/reference/expressions.html#slicings) を指定することができ，うまく使えば読み易く効率的なコードを書くことができる．その詳細な仕様に興味がない人は，オマジナイだと思って使っておこう．\n",
        "\n",
        "一方，`odd_nums`の要素数が20個以下の時には\n",
        "```python\n",
        "print( odd_nums )\n",
        "```\n",
        "とすれば全要素を表示できる．\n",
        "\n",
        "結局，奇数リスト`odd_nums`を出力するためのコードは，以下のように書ける：\n",
        "```python\n",
        "max_len = 20\n",
        "if len(odd_nums) > max_len:\n",
        "    print( odd_num[:max_len] )\n",
        "else:\n",
        "    print( odd_nums )\n",
        "```\n",
        "もしくは，[`min`関数](https://docs.python.org/ja/3/library/functions.html#min)を用いて以下のように書いてもよい:\n",
        "```python\n",
        "print( odd_nums[: min(max_len, len(odd_nums) )] ) # odd_nums の長さが max_len 以上なら最初の max_len 個を，そうでなければ全要素を出力\n",
        "```\n",
        "\n"
      ]
    },
    {
      "cell_type": "code",
      "metadata": {
        "id": "cknlZ9Iovr5j"
      },
      "source": [
        "# [準備]\n",
        "N = 1000000 # 乱数の幅\n",
        "M = 1000000 # 乱数の個数\n",
        "nums = [] # 空のリスト nums を準備 \n",
        "for n in range(M): # M回の繰返しの中で「0以上N未満の乱数」を生成し，numsに追加する\n",
        "    nums.append( randrange(N) )\n",
        "# 以上のプロセスはリスト内包表記を使って次の1行で書くこともできる\n",
        "# nums = [randrange(N) for n in range(M)]\n",
        "\n",
        "\n"
      ],
      "execution_count": 27,
      "outputs": []
    },
    {
      "cell_type": "code",
      "metadata": {
        "colab": {
          "base_uri": "https://localhost:8080/"
        },
        "id": "YcaBWx9o_wjz",
        "outputId": "62701767-9d5a-4446-9246-be1a5a56e847"
      },
      "source": [
        "# [手順0] 空のリスト `odd_nums` と `even_nums`を用意する\n",
        "odd_nums = []\n",
        "even_nums = []\n",
        "# [手順1] `nums`の要素を順に変数 `x`に格納し，`x`が奇数なら`odd_nums`に, `n`が偶数なら`even_nums`に格納する\n",
        "for x in nums:\n",
        "    if x % 2 == 1:\n",
        "        odd_nums.append(x)\n",
        "    else:\n",
        "        even_nums.append(x)\n",
        "\n",
        "# [手順2] `odd_nums`と`even_nums`のそれぞれについて，個数と最初の20個までの要素を出力する\n",
        "max_len = 20\n",
        "print(\"奇数は{0}個:\".format(len(odd_nums)))\n",
        "print( odd_nums[: min(max_len, len(odd_nums) )] ) # odd_nums の長さが max_len 以上なら最初の max_len 個を，そうでなければ全要素を出力\n",
        "print(\"偶数は{0}個:\".format(len(even_nums)))\n",
        "print( even_nums[: min(max_len, len(even_nums) )] ) # even_nums の長さが max_len 以上なら最初の max_len 個を，そうでなければ全要素を出力\n"
      ],
      "execution_count": 28,
      "outputs": [
        {
          "output_type": "stream",
          "name": "stdout",
          "text": [
            "奇数は500034個:\n",
            "[648299, 531601, 724267, 16277, 287049, 587705, 720073, 503993, 544085, 374359, 323529, 870643, 471659, 639167, 679667, 388263, 234403, 20043, 715425, 205755]\n",
            "偶数は499966個:\n",
            "[206850, 970750, 163256, 388036, 412884, 915962, 531558, 347198, 617072, 547070, 274366, 428166, 357656, 313432, 706842, 593170, 991716, 687966, 371508, 281884]\n"
          ]
        }
      ]
    },
    {
      "cell_type": "markdown",
      "metadata": {
        "id": "H1JfNTj1CHuI"
      },
      "source": [
        "(ちょっと上級者向け)リスト内包表記を使えなくともないが，`odd_nums`と`even_nums`のそれぞれで`for`を使うため，あまり効率的ではない．このあたりの勘どころは何度もコーディングしているうちに判ってくるようになる．\n"
      ]
    },
    {
      "cell_type": "code",
      "metadata": {
        "id": "O5pnhO8Avr5l",
        "colab": {
          "base_uri": "https://localhost:8080/"
        },
        "outputId": "b96133bf-7171-465e-d40f-9c148fbec2ae"
      },
      "source": [
        "# [手順1] `nums`のうち奇数からなるリスト `odd_nums` と偶数からなるリスト `even_nums`を作成する\n",
        "odd_nums =  [x for x in nums if x%2==1]\n",
        "even_nums = [x for x in nums if x%2==0]\n",
        "\n",
        "# [手順2] `odd_nums`と`even_nums`のそれぞれについて，個数と全要素を出力する\n",
        "max_len = 20\n",
        "print(\"奇数は{0}個:\".format(len(odd_nums)))\n",
        "print( odd_nums[: min(max_len, len(odd_nums) )] ) # odd_nums の長さが max_len 以上なら最初の max_len 個を，そうでなければ全要素を出力\n",
        "print(\"偶数は{0}個:\".format(len(even_nums)))\n",
        "print( even_nums[: min(max_len, len(even_nums) )] ) # even_nums の長さが max_len 以上なら最初の max_len 個を，そうでなければ全要素を出力"
      ],
      "execution_count": 29,
      "outputs": [
        {
          "output_type": "stream",
          "name": "stdout",
          "text": [
            "奇数は500034個:\n",
            "[648299, 531601, 724267, 16277, 287049, 587705, 720073, 503993, 544085, 374359, 323529, 870643, 471659, 639167, 679667, 388263, 234403, 20043, 715425, 205755]\n",
            "偶数は499966個:\n",
            "[206850, 970750, 163256, 388036, 412884, 915962, 531558, 347198, 617072, 547070, 274366, 428166, 357656, 313432, 706842, 593170, 991716, 687966, 371508, 281884]\n"
          ]
        }
      ]
    },
    {
      "cell_type": "markdown",
      "metadata": {
        "id": "H2myISacjCCe"
      },
      "source": [
        "ここまでで講義資料はおしまい．あとは課題7に取り組んで欲しい．"
      ]
    },
    {
      "cell_type": "markdown",
      "metadata": {
        "id": "Uj6jz1zbo45k"
      },
      "source": [
        "# テキストセルの書き方\n",
        "テキストセルに表や箇条書き，実行結果などを記述したい場合は， markdown という特定の記法が使えます．まずは，このテキストセルをダブル・クリックしてみてください． Colab ノートブックで見えるものと，実際に書かれているもの(もとのテキストと呼びます)が一部違っているのが判ると思います．たとえば，もとのテキストでは，ここ→\n",
        "←ここで改行してますが，notebook では改行されているように見えませんよね．\n",
        "\n",
        "テキストセルで改行するには，上のように空の行を入れます(実際には改行ではなく，段落を変えていることになります)．次のようにすれば，箇条書きに見えます．\n",
        "\n",
        "1. ほげ\n",
        "2. ほげ\n",
        "3. ほげ\n",
        "\n",
        "プログラムのソースコードや，出力結果を記述するには，次のように「｀｀｀」と書いた行と「｀｀｀」と書いた行の間に書いてください(｀は半角で)．\n",
        " `は**バッククォート**と呼ばれ，[使っている環境によって入力方法が異なる](https://316-jp.com/keyboard-backquote)ようです．\n",
        "```\n",
        "奇数は499706個:\n",
        "[973345, 880141, 609939, 834047, 736461, 494271, 392993, 209635, 316921, 647927, 755637, 672777, 607083, 515797, 844665, 249007, 137287, 721277, 343963, 151773]\n",
        "偶数は500294個:\n",
        "[148164, 458108, 817070, 403290, 451316, 631762, 666370, 712000, 724030, 990802, 606886, 332808, 190742, 945460, 718294, 293714, 579262, 285442, 754676, 923228]\n",
        "```"
      ]
    },
    {
      "cell_type": "markdown",
      "metadata": {
        "id": "8GdPo2EDvr5P"
      },
      "source": [
        "# [オマケ]素数のリストを作ろう\n",
        "前回の課題6で求めた「`N`未満の素数の個数と和」について，リストを使った異なる2つの方法を示そう．\n",
        "1. 素数を順にリストに追加していく方法\n",
        "2. 整数のリストから合成数を削除していく方法\n"
      ]
    },
    {
      "cell_type": "markdown",
      "metadata": {
        "id": "TZaZijZ3hUMn"
      },
      "source": [
        "\n",
        "\n",
        "## 1.素数を順にリストに追加していく方法(愚直な方法)\n",
        "まず，ある整数`x`が素数か否かを判定する関数`is_prime`を定義しておこう． 前回講義で紹介したものの中で最も効率の悪いものと同じだ．"
      ]
    },
    {
      "cell_type": "code",
      "metadata": {
        "id": "sW0rgisUvr5Q"
      },
      "source": [
        "#\n",
        "# x が素数ならば True, そうでなければ False を返す関数を定義\n",
        "#\n",
        "def is_prime(x):\n",
        "    is_prime = True # x が素数かどうか判らないので，とりあえず素数としておく\n",
        "    # x が2未満なら素数ではない\n",
        "    if x < 2:\n",
        "        is_prime = False\n",
        "    # n についてのループここから\n",
        "    for n in range( 2, x ): # 2以上x未満の整数(x の約数の候補)を順に n に入れて調べる\n",
        "        if x % n == 0: # もし x が n で割り切れるなら xは素数ではない\n",
        "            is_prime = False\n",
        "    # n についてのループここまで\n",
        "    return is_prime # is_prime を戻り値として関数から抜け出す"
      ],
      "execution_count": 30,
      "outputs": []
    },
    {
      "cell_type": "code",
      "metadata": {
        "id": "AcA-nnNEcupQ",
        "colab": {
          "base_uri": "https://localhost:8080/"
        },
        "outputId": "9849b8fa-8e49-42bc-e059-0f653dee22ba"
      },
      "source": [
        "is_prime(53)"
      ],
      "execution_count": 31,
      "outputs": [
        {
          "output_type": "execute_result",
          "data": {
            "text/plain": [
              "True"
            ]
          },
          "metadata": {},
          "execution_count": 31
        }
      ]
    },
    {
      "cell_type": "markdown",
      "metadata": {
        "id": "Tl0YpY3Lvr5R"
      },
      "source": [
        "上記の `is_prime` 関数を使って，次の3つの手順からなるプログラムを作ってみよう．\n",
        "\n",
        "- [手順0] 空のリスト `prime_nums` を作成する\n",
        "- [手順1] `2`以上`N`未満の整数を順に `x` に代入し，`x`が素数なら `prime_nums` の末尾に追加するループを作る\n",
        "- [手順2] `prime_nums`の長さと総和を出力する\n",
        "\n",
        "各手順の実装方法を述べよう．\n",
        "\n",
        "[手順0]は，以下のいずれか実装できる:\n",
        "```python\n",
        "prime_nums = [] # 要素を持たないリストを与える\n",
        "prime_nums = list() # list関数を引数無しで呼び出す\n",
        "```\n",
        "\n",
        "[手順1]は，`for`ループと `append`関数を使って以下のように実装できる:\n",
        "```python\n",
        "for x in range(2, N): # 2以上N未満の整数を順に x に代入\n",
        "    if is_prime(x): # x が素数なら, prime_numsの末尾に x を追加\n",
        "        prime_nums.append(x)\n",
        "```\n",
        "\n",
        "[手順2]は，`len`関数と`sum`関数を使って以下のように実装できる:\n",
        "```python\n",
        "num = len(prime_nums)\n",
        "val = sum(prime_nums)\n",
        "print( \"N={0}未満の素数 個数:{1} 総和:{2}\".format(N, num, val) )\n",
        "```\n",
        "\n",
        "以上をまとめたものが次のサンプルコードである"
      ]
    },
    {
      "cell_type": "code",
      "metadata": {
        "id": "BGdUPk2Hvr5R",
        "colab": {
          "base_uri": "https://localhost:8080/"
        },
        "outputId": "1d020325-2223-4fe3-c239-a4f6e77a0135"
      },
      "source": [
        "%%time \n",
        "#\n",
        "# サンプルコード: count_prime1\n",
        "# 素数のリストを生成する\n",
        "# \n",
        "N = 2000\n",
        "# [手順0] 空のリスト prime_nums を作成する\n",
        "prime_nums = [] \n",
        "\n",
        "# [手順1] 2以上N未満の整数を順に調べ，それが素数なら prime_nums の末尾に追加する\n",
        "for x in range(2, N):\n",
        "    if is_prime(x):\n",
        "        prime_nums.append(x)\n",
        "\n",
        "# [手順2] len関数とsum関数を使って prime_nums 内の要素の個数と和を求める\n",
        "num = len(prime_nums)\n",
        "val = sum(prime_nums)\n",
        "print( \"N={0}未満の素数 個数:{1} 総和:{2}\".format(N, num, val) )"
      ],
      "execution_count": 32,
      "outputs": [
        {
          "output_type": "stream",
          "name": "stdout",
          "text": [
            "N=2000未満の素数 個数:303 総和:277050\n",
            "CPU times: user 154 ms, sys: 0 ns, total: 154 ms\n",
            "Wall time: 160 ms\n"
          ]
        }
      ]
    },
    {
      "cell_type": "code",
      "metadata": {
        "id": "QhfDKPqYdcmA",
        "colab": {
          "base_uri": "https://localhost:8080/"
        },
        "outputId": "476cd743-9173-4f55-dbd4-03f178df71a3"
      },
      "source": [
        "print(prime_nums)"
      ],
      "execution_count": 33,
      "outputs": [
        {
          "output_type": "stream",
          "name": "stdout",
          "text": [
            "[2, 3, 5, 7, 11, 13, 17, 19, 23, 29, 31, 37, 41, 43, 47, 53, 59, 61, 67, 71, 73, 79, 83, 89, 97, 101, 103, 107, 109, 113, 127, 131, 137, 139, 149, 151, 157, 163, 167, 173, 179, 181, 191, 193, 197, 199, 211, 223, 227, 229, 233, 239, 241, 251, 257, 263, 269, 271, 277, 281, 283, 293, 307, 311, 313, 317, 331, 337, 347, 349, 353, 359, 367, 373, 379, 383, 389, 397, 401, 409, 419, 421, 431, 433, 439, 443, 449, 457, 461, 463, 467, 479, 487, 491, 499, 503, 509, 521, 523, 541, 547, 557, 563, 569, 571, 577, 587, 593, 599, 601, 607, 613, 617, 619, 631, 641, 643, 647, 653, 659, 661, 673, 677, 683, 691, 701, 709, 719, 727, 733, 739, 743, 751, 757, 761, 769, 773, 787, 797, 809, 811, 821, 823, 827, 829, 839, 853, 857, 859, 863, 877, 881, 883, 887, 907, 911, 919, 929, 937, 941, 947, 953, 967, 971, 977, 983, 991, 997, 1009, 1013, 1019, 1021, 1031, 1033, 1039, 1049, 1051, 1061, 1063, 1069, 1087, 1091, 1093, 1097, 1103, 1109, 1117, 1123, 1129, 1151, 1153, 1163, 1171, 1181, 1187, 1193, 1201, 1213, 1217, 1223, 1229, 1231, 1237, 1249, 1259, 1277, 1279, 1283, 1289, 1291, 1297, 1301, 1303, 1307, 1319, 1321, 1327, 1361, 1367, 1373, 1381, 1399, 1409, 1423, 1427, 1429, 1433, 1439, 1447, 1451, 1453, 1459, 1471, 1481, 1483, 1487, 1489, 1493, 1499, 1511, 1523, 1531, 1543, 1549, 1553, 1559, 1567, 1571, 1579, 1583, 1597, 1601, 1607, 1609, 1613, 1619, 1621, 1627, 1637, 1657, 1663, 1667, 1669, 1693, 1697, 1699, 1709, 1721, 1723, 1733, 1741, 1747, 1753, 1759, 1777, 1783, 1787, 1789, 1801, 1811, 1823, 1831, 1847, 1861, 1867, 1871, 1873, 1877, 1879, 1889, 1901, 1907, 1913, 1931, 1933, 1949, 1951, 1973, 1979, 1987, 1993, 1997, 1999]\n"
          ]
        }
      ]
    },
    {
      "cell_type": "markdown",
      "metadata": {
        "id": "1D40hRVtvr5U"
      },
      "source": [
        "## 2.整数のリストから合成数を削除していく方法(Eratosthenesのふるい)\n",
        "今度は，「2以上N未満の整数からなるリストを作り，そこから合成数を削除していく」プログラムを作ってみよう． この方法は「Eratosthenes(エラトステネス)のふるい」と呼ばれている．\n",
        "\n",
        "このプログラムは，次の4つの手順からなる\n",
        "- [手順0] 2以上`N`未満の整数からなるリスト `nums` と，空のリスト`prime_nums`を作成する．\n",
        "- [手順1] `nums`の先頭の要素を`x`とする．`x`は素数なので，それを`prime_nums`に加える．次に，`nums`の中から「`x`とその倍数」を全て取り除く(このため，`nums`の中で最小のものは常に素数である)．これを`x<=N**0.5`である限り繰返す．\n",
        "- [手順2] [手順1]が終わった時点で`nums`の中身は全て素数なので，これを`prime_nums`に加える．\n",
        "- [手順3] `prime_nums`の長さと総和を出力する\n",
        "\n",
        "各手順は，以下のように実装できる．\n",
        "\n",
        "[手順0]は `range`関数を使って以下のように実装できる:\n",
        "```python\n",
        "prime_nums = []\n",
        "nums = list( range(2,N) )\n",
        "```\n",
        "実は，`range(2, N)`は「2以上N未満の整数列全体」という**リスト**ではなく，必要な時に必要な整数を都度生成する**特別なオブジェクト**である．これにより，`range(1000000000)`のような，途方もなく大きな整数列を扱う時も，その要素の全てを実際にメモリに記憶しておく必要がなくなる．しかし，`range`オブジェクトに対しては `remove`関数などを使うことができないので，生成されたオブジェクトを`list`関数に与えてリストにしてやる必要がある．ここでは詳細な仕様に踏み込むことはせず，上記の手順を「2以上`N`未満の整数からなる**リスト**が作れるオマジマイ」として覚えておこう．\n",
        "\n",
        "[手順1]はちょっと複雑だ．まずはコードを見て欲しい．\n",
        "```python\n",
        "x = nums[0] # nums の先頭の要素を x とする\n",
        "while x <= N**0.5: # x が√N以下なら繰返す\n",
        "    # [手順1-1] x は素数なので prime_nums の末尾に加える\n",
        "    prime_nums.append(x)\n",
        "    # [手順1-2] nums の中で x と x の倍数を取り除く\n",
        "    for n in range(x, N, x): # range(x, N, x)は「x以上N未満で等差がxの整数列」を生成\n",
        "        if n in nums: # n が num にあれば取り除く\n",
        "            nums.remove(n)\n",
        "    # [手順1-3] nums の先頭の要素(素数)を x とする\n",
        "    x = nums[0]\n",
        "```\n",
        "最初の行は繰返しの条件を表している．`nums`の先頭の要素(`nums[0]`)を `x` とするとき，`x`が`N**0.5`(=√N)以下なら，その後の処理を行なう．調べる範囲が√N以下でよいのは，積の対称性によるもの(第11回の講義資料を参照)．\n",
        "\n",
        "[手順1]の繰返し処理の中身は，以下の3つに分かれている\n",
        "- [手順1-1] `x` は素数なので， `prime_nums` の末尾に加える．\n",
        "- [手順1-2] `nums`から`x`と`x`の倍数を取り除く．\n",
        "- [手順1-3] `nums` の先頭の要素(素数)を`x`とする．\n",
        "\n",
        "[手順1-1]は特に説明は不要だろう．`prime_nums`の末尾に加えるのに`append`関数を使っている．\n",
        "[手順1-2]は `for n in range(x, N, x):` の行で使われている`range(x, N, x)`がミソだ．`range`関数は第3引数が与えられると，それを等差とみなした等差数列を生成する．そのため，`range(x, N, x)`は，「`x`以上`N`未満で，等差`x`の等差整数列」を生成するのだ．これを順に `n` に代入し，続く `if` ブロックで「`n`が`nums`に入っていれば，それを取り除く」という処理をしている．\n",
        "[手順1-3]も説明は不要だろう．`nums`の先頭の要素は，それより小さい1以外の約数を持たない(素数)であることが自明である．\n",
        "\n",
        "[手順2]は2つのリスト`prime_nums`と`nums`を`+`を使って連結させたリストを，再び`prime_nums`に代入すればよいので，以下のコードで実装できる：\n",
        "```python\n",
        "prime_nums = prime_nums + nums\n",
        "```\n",
        "\n",
        "[手順3]はさっきと同じだ．\n",
        "```python\n",
        "num = len(prime_nums)\n",
        "val = sum(prime_nums)\n",
        "print( \"N={0}未満の素数 個数:{1} 総和:{2}\".format(N, num, val) )\n",
        "```\n",
        "\n",
        "以上をまとめたものが次のサンプルコードである．最初の行の`%%time`はマジックコードである．Colab notebook では，コードセルの先頭に`%%time`と書いておくと，その**セル**の実行にかかる時間を表示する．前回の講義で使ったマジックコード`%time`は，その**行**の実行にかかる時間を表示する．よく似ているので注意されたい．\n"
      ]
    },
    {
      "cell_type": "code",
      "metadata": {
        "id": "o7SkbHlDvr5U",
        "colab": {
          "base_uri": "https://localhost:8080/"
        },
        "outputId": "db8f8785-46de-4866-eb44-f346c2e5605b"
      },
      "source": [
        "%%time\n",
        "#\n",
        "# サンプルコード: count_prime2\n",
        "# Eratosthenesのふるいを使って素数のリストを生成する\n",
        "#\n",
        "# [手順0] 空のリスト prime_nums と2以上N未満の全ての整数からなるリスト nums を作成する\n",
        "N = 2000\n",
        "prime_nums = []\n",
        "nums = list( range(2,N) )\n",
        "\n",
        "# [手順1] numsの先頭の要素 x を prime_nums に追加し， nums から x と xの倍数を取り除く．これを x <= N**0.5 の間繰返す．\n",
        "x = nums[0]\n",
        "while x <= N**0.5:\n",
        "    # [手順1-1] nums の先頭の要素 x を prime_nums に追加する\n",
        "    prime_nums.append(x)\n",
        "    # [手順1-2] x と x の倍数を nums から取り除く\n",
        "    for n in range(x, N, x):\n",
        "        if n in nums:\n",
        "            nums.remove(n)\n",
        "    # [手順1-3] nums の先頭の要素(素数)を x とする\n",
        "    x = nums[0]\n",
        "\n",
        "# [手順2] [手順1]が終わった時点で nums には素数だけが残っているので，これを prime_nums と連結させる\n",
        "prime_nums = prime_nums + nums\n",
        "\n",
        "# [手順3] len関数とsum関数を使って prime_nums 内の要素の個数と和を求める\n",
        "num = len(prime_nums)\n",
        "val = sum(prime_nums)\n",
        "print( \"N={0}未満の素数 個数:{1} 総和:{2}\".format(N, num, val) )"
      ],
      "execution_count": 34,
      "outputs": [
        {
          "output_type": "stream",
          "name": "stdout",
          "text": [
            "N=2000未満の素数 個数:303 総和:277050\n",
            "CPU times: user 41.8 ms, sys: 0 ns, total: 41.8 ms\n",
            "Wall time: 42.3 ms\n"
          ]
        }
      ]
    },
    {
      "cell_type": "markdown",
      "metadata": {
        "id": "z8B8sEZTvr5Y"
      },
      "source": [
        "## 2の改良版\n",
        "2の「Eratosthenes のふるい」は，理論的には1の愚直な方法よりも計算量が小さくなることが知られている([参考](https://mathtrain.jp/eratosthenes))．\n",
        "しかし，実際に上記の方法で実装してみると，意外に処理が遅い．特に，1の愚直な方法について，`is_prime`関数を(前回の講義で解説した方法を使って)効率化した場合，1の愚直な方法の方が速い．これは[手順1-2]で使っている `remove`という関数の処理に時間がかかるためである．\n",
        "そこで，「`nums`から `x` と `x`の倍数を(`remove`を使って)取り除く」のではなく，「`nums`の中で`x`で割り切れないものだけを集めたリストを新しく作る」という方法を試してみよう．\n",
        "\n",
        "以下では，これを次の3つの手順で実装する方法を示す：\n",
        "- [手順1-2-0] もとのリスト`nums`とは別の空リスト`next_nums`を用意する\n",
        "- [手順1-2-1] `nums`の要素を1つづつ調べながら`x`の倍数でないものを`next_nums`に追加する\n",
        "- [手順1-2-2] `next_nums` を `nums`に代入する(正確には`next_nums`の名前を`nums`に置き換える)．\n",
        "\n",
        "```python\n",
        "# [手順1-2-0] もとのリストとは別の空リスト next_nums を用意する\n",
        "next_nums = [] \n",
        "# [手順1-2-1] nums の要素を1つづつ n に代入し， n が x の倍数でないなら next_nums に追加する\n",
        "for n in nums:\n",
        "    if n % x != 0:\n",
        "        next_nums.append(n)\n",
        "# [手順1-2-2] next_nums を nums に代入する\n",
        "nums = next_nums\n",
        "```\n",
        "\n",
        "サンプルコード`count_prime2`の[手順1-2]を上記の手順に置き換えたのが次のサンプルコードだ．実行してみると，`remove`を使ったものよりも格段に速くなることが確認できるだろう．"
      ]
    },
    {
      "cell_type": "code",
      "metadata": {
        "id": "7fu2R542vr5Z",
        "colab": {
          "base_uri": "https://localhost:8080/"
        },
        "outputId": "cce9640a-01f5-4c8d-944c-2fd2deb86643"
      },
      "source": [
        "%%time\n",
        "#\n",
        "# サンプルコード: count_prime2_rev\n",
        "# Eratosthenesのふるいを使って素数のリストを生成する (改良版)\n",
        "#\n",
        "# [手順0] 空のリスト prime_nums と2以上N未満の全ての整数からなるリスト nums を作成する\n",
        "N = 2000\n",
        "prime_nums = []\n",
        "nums = list( range(2,N) )\n",
        "\n",
        "# [手順1] numsの先頭の要素 x を prime_nums に追加し， nums から x と xの倍数を取り除く．これを x <= N**0.5 の間繰返す．\n",
        "x = nums[0] # nums の先頭の要素を x とする\n",
        "while x <= N**0.5:\n",
        "    # [手順1-1] x は素数なので prime_nums に追加する\n",
        "    prime_nums.append(x)\n",
        "    # [手順1-2] x と x の倍数を nums から取り除く\n",
        "    # [手順1-2-0] もとのリストとは別の空リスト next_nums を用意する\n",
        "    next_nums = [] \n",
        "    # [手順1-2-1] nums の要素を1つづつ n に代入し， n が x の倍数でないなら next_nums に追加する\n",
        "    for n in nums:\n",
        "        if n % x != 0:\n",
        "            next_nums.append(n)\n",
        "    # [手順1-2-2] next_nums を nums に代入する\n",
        "    nums = next_nums\n",
        "    # [手順1-3] nums の先頭の要素(素数)を x とする\n",
        "    x = nums[0]\n",
        "\n",
        "# [手順2] [手順1]が終わった時点で nums には素数だけが残っているので，これを prime_nums と連結させる\n",
        "prime_nums = prime_nums + nums\n",
        "\n",
        "# [手順3] len関数とsum関数を使って prime_nums 内の要素の個数と和を求める\n",
        "num = len(prime_nums)\n",
        "val = sum(prime_nums)\n",
        "print( \"N={0}未満の素数 個数:{1} 総和:{2}\".format(N, num, val) )"
      ],
      "execution_count": 35,
      "outputs": [
        {
          "output_type": "stream",
          "name": "stdout",
          "text": [
            "N=2000未満の素数 個数:303 総和:277050\n",
            "CPU times: user 3.09 ms, sys: 0 ns, total: 3.09 ms\n",
            "Wall time: 5.26 ms\n"
          ]
        }
      ]
    },
    {
      "cell_type": "markdown",
      "metadata": {
        "id": "AbgUwTfemQ6x"
      },
      "source": [
        "\n",
        "## リスト内包表記をつかった Eratosthenes のふるい\n",
        "リスト内包表記をうまく使うと，コードを短く&読み易くできるだけでなく，処理速度も向上させられる．例えば，上述した Eratosthenes のふるい(`count_prime2_rev`)の[手順2]をリスト内包表記を使って書いた以下のコード(`count_prime3`)は，`append`を使ったものよりも処理速度が2倍くらい速い．"
      ]
    },
    {
      "cell_type": "code",
      "metadata": {
        "id": "SWVTfAr5xJ_M",
        "colab": {
          "base_uri": "https://localhost:8080/"
        },
        "outputId": "f510f0f7-ae96-4eb0-9170-d9cae8a1e8df"
      },
      "source": [
        "%%time\n",
        "#\n",
        "# サンプルコード: count_prime3\n",
        "# Eratosthenesのふるいを使って素数のリストを生成する (リスト内包表記を使用)\n",
        "#\n",
        "# [手順0] 空のリスト prime_nums と2以上N未満の全ての整数からなるリスト nums を作成する\n",
        "N = 2000\n",
        "prime_nums = []\n",
        "nums = list( range(2,N) )\n",
        "\n",
        "# [手順1] numsの先頭の要素 x を prime_nums に追加し， nums から x と xの倍数を取り除く．これを x <= N**0.5 の間繰返す．\n",
        "x = nums[0]\n",
        "while x <= N**0.5:\n",
        "    # [手順1-1] nums の先頭の要素 x を prime_nums に追加する\n",
        "    prime_nums.append(x)\n",
        "    # [手順1-2] x と x の倍数を nums から取り除く(nums のうち xの倍数でないもので新たなリストを nums とする)\n",
        "    nums = [n for n in nums if n%x != 0]\n",
        "    # [手順1-3] nums の先頭の要素(素数)を x とする\n",
        "    x = nums[0]\n",
        "# [手順2] [手順1]が終わった時点で nums には素数だけが残っているので，これを prime_nums と連結させる\n",
        "prime_nums = prime_nums + nums\n",
        "\n",
        "# [手順3] len関数とsum関数を使って prime_nums 内の要素の個数と和を求める\n",
        "num = len(prime_nums)\n",
        "val = sum(prime_nums)\n",
        "print( \"N={0}未満の素数 個数:{1} 総和:{2}\".format(N, num, val) )"
      ],
      "execution_count": 36,
      "outputs": [
        {
          "output_type": "stream",
          "name": "stdout",
          "text": [
            "N=2000未満の素数 個数:303 総和:277050\n",
            "CPU times: user 2.58 ms, sys: 0 ns, total: 2.58 ms\n",
            "Wall time: 2.59 ms\n"
          ]
        }
      ]
    },
    {
      "cell_type": "markdown",
      "metadata": {
        "id": "OnoHEecnkB29"
      },
      "source": [
        "## もっと速い方法\n",
        "実は，もっと速くする方法もある． それは「素数のリスト」を作るのではなく，0以上N未満の全ての整数について「素数(`True`)か否(`False`)か」のラベルからなるリスト`is_prime`を作り，「`n`が素数でなければ候補から取り除く」という処理の代わりに「`n`番地のラベルを `False`(素数でない)に置き換える」，つまり，\n",
        "```\n",
        "is_prime[n]=False\n",
        "```\n",
        "という処理を行う． この方法だと，「ラベルを格納しておくリスト」の長さが最初から最後まで変わらないので，非常に高速になる．\n",
        "\n",
        "なお，素数の個数と総和を求めるには素数， すなわち `is_prime[n]==True`となる `n`, からなるリストを作成し，その長さと和を計算すればよい． 具体的には，\n",
        "```\n",
        "prime = [n for n in range(2,N) if is_prime[n]]\n",
        "```\n",
        "とすれば， 素数のリストを `prime` に格納することができる． その上で，\n",
        "```\n",
        "num = len(prime)\n",
        "val = sum(prime)\n",
        "```\n",
        "とすれば， `num` に素数の個数が，`val`に素数の和が格納される．\n",
        "\n",
        "この方法はあまり効率がよくないが，それでも `N=20,000,000`(=$2\\times10^7$) くらいに対して10秒未満で計算できる．\n",
        "\n"
      ]
    },
    {
      "cell_type": "code",
      "metadata": {
        "colab": {
          "base_uri": "https://localhost:8080/"
        },
        "id": "NtFuGb-hkA3A",
        "outputId": "9cf4db51-9b93-4146-8054-dff105c7ac98"
      },
      "source": [
        "%%time\n",
        "N = int(2e7) # 2e7 = 2*10^7． 2e7は実数なので int 関数で整数に直している． このくらいNが大きいと上記方法との差が明確になる\n",
        "\n",
        "# 0以上N未満の整数のそれぞれに対して「素数(True)か否(False)か」のラベルを格納するリストを準備する\n",
        "is_prime = [True]*N # N個のリストを用意し，その全てを `True` にしておく\n",
        "\n",
        "# リストの中身を、順次、False (=素数ではない)にしていく\n",
        "is_prime[0] = False # 0は素数ではないのでラベルを False にする\n",
        "is_prime[1] = False # 1も素数ではないのでラベルを False にする\n",
        "# 2以上 √N 以下の候補について， その倍数を素数ではない(False)にする\n",
        "for n in range(2,int(N**0.5)+1): \n",
        "    if is_prime[n] == False: # n が合成数ならその倍数は既に合成数と判定されている\n",
        "        continue\n",
        "    for m in range(2*n,N,n):\n",
        "        is_prime[m] = False # n の倍数 m を合成数とする\n",
        "# 素数の個数と和を表示\n",
        "prime = [n for n in range(2,N) if is_prime[n]] # is_prime から素数のリストを生成\n",
        "num = len(prime) # 素数の個数\n",
        "val = sum(prime) # 素数の和\n",
        "print( \"N={0}未満の素数 個数:{1} 総和:{2}\".format(N, num, val) )"
      ],
      "execution_count": 62,
      "outputs": [
        {
          "output_type": "stream",
          "name": "stdout",
          "text": [
            "N=20000000未満の素数 個数:1270607 総和:12272577818052\n",
            "CPU times: user 7.27 s, sys: 33.5 ms, total: 7.3 s\n",
            "Wall time: 7.32 s\n"
          ]
        }
      ]
    },
    {
      "cell_type": "markdown",
      "source": [
        "# (さらにオマケ）numpy モジュールを使う方法\n",
        "Python には行列・ベクトルを扱う[`numpy`](https://numpy.org/)というモジュールがあり，うまく使えばかなりの処理速度を実現できる．　下記のプログラムを使うと $N=2\\times10^{7}$くらいでも1秒かからずに計算できる．"
      ],
      "metadata": {
        "id": "QhQa5mKWLsLe"
      }
    },
    {
      "cell_type": "code",
      "metadata": {
        "id": "Pl_YuGCT69Cz"
      },
      "source": [
        "import numpy as np # numpy モジュールを np という名前でインポート"
      ],
      "execution_count": 63,
      "outputs": []
    },
    {
      "cell_type": "code",
      "source": [
        "%%time\n",
        "N = int(2e7) # N=20,000,000 を与える\n",
        "# 0以上N未満の整数のそれぞれに対して「素数(True)か否(False)か」のラベルを格納する配列を準備する\n",
        "is_prime = np.ones((N,), dtype=bool) # False(=0)かTrue(=1)のいずれかしか格納できない bool 型のN個の配列を用意\n",
        "\n",
        "# リストの中身を、順次、False (=素数ではない)にしていく\n",
        "is_prime[[0,1]] = False # 0 と 1 は素数ではないのでラベルを False にする\n",
        "# 2以上 √N 以下の候補について， その倍数を素数ではない(False)にする\n",
        "for n in range(2, int(N**0.5)+1):\n",
        "    if not is_prime[n]: continue  # is_prime[n]が False (合成数)ならスキップ\n",
        "    is_prime[np.arange(n*n, N, n, dtype=np.uint64)]=False # n の倍数を合成数とする\n",
        "# 素数の個数と和を表示 \n",
        "prime = np.arange(N)[is_prime] # is_prime から素数のリストを精子\n",
        "num = len(prime) # 素数の個数\n",
        "val = sum(prime) # 素数の和\n",
        "print( \"N={0}未満の素数 個数:{1} 総和:{2}\".format(N, num, val) )"
      ],
      "metadata": {
        "colab": {
          "base_uri": "https://localhost:8080/"
        },
        "id": "BwpBRHwPMHOn",
        "outputId": "706f8b25-e060-491b-812f-1846c9abd227"
      },
      "execution_count": 64,
      "outputs": [
        {
          "output_type": "stream",
          "name": "stdout",
          "text": [
            "N=20000000未満の素数 個数:1270607 総和:12272577818052\n",
            "CPU times: user 760 ms, sys: 19.2 ms, total: 779 ms\n",
            "Wall time: 793 ms\n"
          ]
        }
      ]
    }
  ]
}